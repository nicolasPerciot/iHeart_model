{
 "cells": [
  {
   "attachments": {},
   "cell_type": "markdown",
   "id": "577b40a4",
   "metadata": {},
   "source": [
    "# entrainement model Keras fonction Sigmoid"
   ]
  },
  {
   "cell_type": "code",
   "execution_count": 1,
   "id": "b0db961b",
   "metadata": {},
   "outputs": [
    {
     "name": "stderr",
     "output_type": "stream",
     "text": [
      "c:\\Users\\nperc\\Documents\\Datathon\\01_iHeath_env2\\lib\\site-packages\\numpy\\_distributor_init.py:30: UserWarning: loaded more than 1 DLL from .libs:\n",
      "c:\\Users\\nperc\\Documents\\Datathon\\01_iHeath_env2\\lib\\site-packages\\numpy\\.libs\\libopenblas.FB5AE2TYXYH2IJRDKGDGQ3XBKLKTF43H.gfortran-win_amd64.dll\n",
      "c:\\Users\\nperc\\Documents\\Datathon\\01_iHeath_env2\\lib\\site-packages\\numpy\\.libs\\libopenblas64__v0.3.21-gcc_10_3_0.dll\n",
      "  warnings.warn(\"loaded more than 1 DLL from .libs:\"\n"
     ]
    }
   ],
   "source": [
    "import os\n",
    "import numpy as np\n",
    "import pandas as pd\n",
    "import tensorflow as tf\n",
    "from tensorflow import keras\n",
    "from tensorflow.keras import layers"
   ]
  },
  {
   "cell_type": "code",
   "execution_count": 2,
   "id": "8efdb2d8",
   "metadata": {},
   "outputs": [],
   "source": [
    "dir_path        = 'C:\\\\Users\\\\nperc\\\\Documents\\\\Datathon\\\\clean_deep_model'"
   ]
  },
  {
   "cell_type": "code",
   "execution_count": 3,
   "id": "833e5228",
   "metadata": {},
   "outputs": [],
   "source": [
    "dir_images      = os.path.join(dir_path, 'data\\\\images\\\\sup')"
   ]
  },
  {
   "attachments": {},
   "cell_type": "markdown",
   "id": "c370be3c",
   "metadata": {},
   "source": [
    "### Parameters"
   ]
  },
  {
   "cell_type": "code",
   "execution_count": 15,
   "id": "cad8a2d9",
   "metadata": {},
   "outputs": [],
   "source": [
    "SIZE        = 224\n",
    "IMAGE_SIZE  = (SIZE, SIZE, 1)"
   ]
  },
  {
   "cell_type": "code",
   "execution_count": 16,
   "id": "3179fa39",
   "metadata": {},
   "outputs": [],
   "source": [
    "# import cv2 as cv\n",
    "# from tensorflow.keras.preprocessing.image import load_img, img_to_array\n",
    "\n",
    "# X        = []\n",
    "# y        = []\n",
    "\n",
    "# dir_new = os.path.join(dir_path, 'data\\\\images\\\\sup')\n",
    "\n",
    "# for dir_client in os.listdir(dir_images) :\n",
    "#     path_client = os.path.join(dir_images, dir_client)\n",
    "#     for dirs in os.listdir(path_client) :\n",
    "#         if dirs.lower().find('sup') != -1 :\n",
    "#             image = cv.imread(os.path.join(path_client, dirs))\n",
    "#             # image = cv.resize(image, (SIZE, SIZE), interpolation = cv.INTER_LINEAR)\n",
    "           \n",
    "           \n",
    "\n",
    "#             # if(image[image.astype(bool)].size != 0) :            \n",
    "#             #     try :\n",
    "#             #         y.append(dataset['CHA2DS2_VASc'][dataset['Num patient'] == dir_client].values[0])\n",
    "#             #         X.append(image)\n",
    "                    \n",
    "#             #     except :\n",
    "#             #         print(dir_client + ' --> not found')\n",
    "#             #         continue"
   ]
  },
  {
   "cell_type": "code",
   "execution_count": 17,
   "id": "e81338b4",
   "metadata": {},
   "outputs": [],
   "source": [
    "batch_size = 4\n",
    "\n",
    "# train_ds, val_ds = tf.keras.utils.image_dataset_from_directory(\n",
    "#     dir_images,\n",
    "#     validation_split=0.2,\n",
    "#     subset=\"both\",\n",
    "#     seed=1337,\n",
    "#     image_size=(SIZE, SIZE),\n",
    "#     batch_size=batch_size,\n",
    "#     label_mode='categorical'\n",
    "# )"
   ]
  },
  {
   "cell_type": "code",
   "execution_count": 18,
   "id": "0bacb615",
   "metadata": {},
   "outputs": [
    {
     "name": "stdout",
     "output_type": "stream",
     "text": [
      "Found 736 files belonging to 3 classes.\n",
      "Using 589 files for training.\n",
      "Using 147 files for validation.\n"
     ]
    }
   ],
   "source": [
    "import rerun as rr\n",
    "import numpy.typing as npt\n",
    "\n",
    "train_ds, val_ds = tf.keras.utils.image_dataset_from_directory(\n",
    "            dir_images,\n",
    "            labels='inferred',\n",
    "            label_mode='categorical',\n",
    "            class_names=None,\n",
    "            color_mode='grayscale',\n",
    "            batch_size=batch_size,\n",
    "            image_size=(SIZE, SIZE),\n",
    "            shuffle=True,\n",
    "            seed=42,\n",
    "            validation_split=0.2,\n",
    "            subset='both',\n",
    "            interpolation='bilinear',\n",
    "            follow_links=False,\n",
    "            crop_to_aspect_ratio=False\n",
    "        )\n",
    "\n",
    "options = tf.data.Options()\n",
    "options.threading.max_intra_op_parallelism = 1\n",
    "train_ds    = train_ds.with_options(options)\n",
    "\n",
    "# ------------------------------------------------\n",
    "val_ds   \t= val_ds.with_options(options)\n",
    "# val_ds   \t= val_ds.cache().repeat( 50 ).prefetch( buffer_size = 50)\n",
    "\n",
    "# # ------------------------------------------------\n",
    "# train_ds = train_ds.cache().repeat( 50 ).prefetch( buffer_size = 50)\n"
   ]
  },
  {
   "cell_type": "code",
   "execution_count": 19,
   "id": "7baabab5",
   "metadata": {},
   "outputs": [],
   "source": [
    "# data_augmentation = keras.Sequential(\n",
    "#     [\n",
    "#         layers.RandomFlip(\"horizontal\"),\n",
    "#         layers.RandomRotation(0.1),\n",
    "#     ]\n",
    "# )\n",
    "\n",
    "# augmented_train_ds = train_ds.map(\n",
    "#     lambda x, y: (data_augmentation(x, training=True), y), num_parallel_calls=tf.data.experimental.AUTOTUNE)"
   ]
  },
  {
   "cell_type": "code",
   "execution_count": 20,
   "id": "0449559b",
   "metadata": {},
   "outputs": [],
   "source": [
    "train_ds    = train_ds.prefetch(tf.data.AUTOTUNE)\n",
    "val_ds      = val_ds.prefetch(tf.data.AUTOTUNE)"
   ]
  },
  {
   "attachments": {},
   "cell_type": "markdown",
   "id": "d7051b20",
   "metadata": {},
   "source": [
    "# Construction du modèle"
   ]
  },
  {
   "cell_type": "code",
   "execution_count": 21,
   "id": "a8a213a0",
   "metadata": {},
   "outputs": [],
   "source": [
    "# def make_model(input_shape, num_classes):\n",
    "#     inputs = keras.Input(shape=input_shape)\n",
    "\n",
    "#     x = tf.keras.applications.DenseNet201(weights=None)(inputs)\n",
    "\n",
    "\n",
    "#     x = layers.Dropout(0.5)(x)\n",
    "#     outputs = layers.Dense(num_classes, activation=\"softmax\")(x)\n",
    "#     return keras.Model(inputs, outputs)\n",
    "\n",
    "\n",
    "# model = make_model(input_shape=IMAGE_SIZE, num_classes=3)"
   ]
  },
  {
   "cell_type": "code",
   "execution_count": 28,
   "id": "b7dbd79f",
   "metadata": {},
   "outputs": [],
   "source": [
    "from keras import layers, models\n",
    "from keras.applications import *\n",
    "from keras.applications.efficientnet import EfficientNetB0\n",
    "from keras.initializers import RandomNormal\n",
    "\n",
    "init = RandomNormal(mean=0.0, stddev=0.02, seed=None)\n",
    "NUMBER_OF_CLASSES = 3\n",
    "\n",
    "def make_model( IMG_SHAPE ):\n",
    "    conv_base = DenseNet201(weights=None, include_top=False, input_shape=IMG_SHAPE)\n",
    "    model     = models.Sequential()\n",
    "    model.add(conv_base)\n",
    "    model.add(layers.GlobalMaxPooling2D(name=\"gap\"))\n",
    "    #avoid overfitting\n",
    "    model.add(layers.Dropout(0.2, name=\"dropout_out\"))\n",
    "    model.add(layers.Dense(32, activation='relu'))\n",
    "    # Set NUMBER_OF_CLASSES to the number of your final predictions.\n",
    "    model.add(layers.Dense(NUMBER_OF_CLASSES, activation=\"softmax\", name=\"fc_out\", kernel_initializer=init, use_bias=False))\n",
    "    conv_base.trainable = False\n",
    "\n",
    "    return model\n",
    "\n",
    "\n",
    "model = make_model(IMG_SHAPE=IMAGE_SIZE)"
   ]
  },
  {
   "cell_type": "code",
   "execution_count": 23,
   "id": "e8378cbe",
   "metadata": {},
   "outputs": [],
   "source": [
    "# epochs = 50\n",
    "\n",
    "# callbacks = [\n",
    "#     keras.callbacks.ModelCheckpoint(\"cc/cc_{epoch}.keras\"),\n",
    "# ]\n",
    "# model.compile(\n",
    "#     optimizer=keras.optimizers.Adam(1e-3),\n",
    "#     loss=\"categorical_crossentropy\",\n",
    "#     metrics=[\"accuracy\"],\n",
    "# )\n",
    "# model.fit(\n",
    "#     train_ds,\n",
    "#     epochs=epochs,\n",
    "#     callbacks=callbacks,\n",
    "#     validation_data=val_ds,\n",
    "# )"
   ]
  },
  {
   "cell_type": "code",
   "execution_count": 29,
   "id": "93c87a12",
   "metadata": {},
   "outputs": [],
   "source": [
    "callbacks = [\n",
    "\n",
    "    # ModelCheckpoint permet de sauvegarder le modèle après chaque epoch.\n",
    "    keras.callbacks.ModelCheckpoint(\"sup/sup_{epoch}.keras\"),\n",
    "\n",
    "    # EarlyStopping permet d'arrêter l'entraînement prématurément si la perte (loss) sur l'ensemble\n",
    "    # de validation ne s'améliore pas pendant un certain nombre d'epochs (patience).\n",
    "    tf.keras.callbacks.EarlyStopping(\n",
    "    monitor=\"val_loss\",\n",
    "    min_delta=0,\n",
    "    patience=10,\n",
    "    verbose=0,\n",
    "    mode=\"auto\",\n",
    "    baseline=None,\n",
    "    restore_best_weights=False,\n",
    "    start_from_epoch=0),\n",
    "    \n",
    "    # ReduceLROnPlateau permet de réduire le taux d'apprentissage si la perte sur l'ensemble\n",
    "    # de validation ne s'améliore pas pendant un certain nombre d'epochs (patience)\n",
    "    tf.keras.callbacks.ReduceLROnPlateau(\n",
    "    monitor=\"val_loss\",\n",
    "    factor=0.1,\n",
    "    patience=5,\n",
    "    verbose=0,\n",
    "    mode=\"auto\",\n",
    "    min_delta=0.0001,\n",
    "    cooldown=0,\n",
    "    min_lr=0)\n",
    "]"
   ]
  },
  {
   "cell_type": "code",
   "execution_count": 30,
   "id": "76a02c3a",
   "metadata": {},
   "outputs": [],
   "source": [
    "# from segmentation_models import Unet, get_preprocessing\n",
    "# from segmentation_models.losses import bce_jaccard_loss\n",
    "# from segmentation_models.metrics import iou_score\n",
    "\n",
    "# BACKBONE = 'resnet34'\n",
    "# preprocess_input = get_preprocessing(BACKBONE)\n",
    "\n",
    "\n",
    "# # preprocess input\n",
    "# train_ds = preprocess_input(train_ds)\n",
    "# val_ds   = preprocess_input(val_ds)\n",
    "\n",
    "# # define model\n",
    "# model = Unet(BACKBONE, encoder_weights=None)\n",
    "# model.compile('Adam', loss=bce_jaccard_loss, metrics=[iou_score])\n",
    "\n",
    "# # fit model\n",
    "# model.fit(\n",
    "#     train_ds,\n",
    "#     epochs=10,\n",
    "#     callbacks=callbacks,\n",
    "#     validation_data=val_ds,\n",
    "# )"
   ]
  },
  {
   "attachments": {},
   "cell_type": "markdown",
   "id": "d30fec71",
   "metadata": {},
   "source": [
    "# Entrainement du model"
   ]
  },
  {
   "cell_type": "code",
   "execution_count": 31,
   "id": "dc6f5743",
   "metadata": {},
   "outputs": [],
   "source": [
    "epochs      = 50"
   ]
  },
  {
   "cell_type": "code",
   "execution_count": 32,
   "id": "e1222960",
   "metadata": {},
   "outputs": [
    {
     "name": "stdout",
     "output_type": "stream",
     "text": [
      "Epoch 1/50\n"
     ]
    },
    {
     "ename": "InvalidArgumentError",
     "evalue": "Graph execution error:\n\n`channels` must be 0, 3 or 4 for BMP, but got 1\n\t [[{{node decode_image/DecodeImage}}]]\n\t [[IteratorGetNext]] [Op:__inference_train_function_50171]",
     "output_type": "error",
     "traceback": [
      "\u001b[1;31m---------------------------------------------------------------------------\u001b[0m",
      "\u001b[1;31mInvalidArgumentError\u001b[0m                      Traceback (most recent call last)",
      "Cell \u001b[1;32mIn[32], line 15\u001b[0m\n\u001b[0;32m      1\u001b[0m \u001b[39m# Nombre d'itérations d'entraînement que le modèle va effectuer sur l'ensemble des données\u001b[39;00m\n\u001b[0;32m      2\u001b[0m \n\u001b[0;32m      3\u001b[0m \n\u001b[0;32m      4\u001b[0m \u001b[39m# Fonctions qui sont exécutées pendant l'entraînement pour effectuer des opérations\u001b[39;00m\n\u001b[0;32m      5\u001b[0m \u001b[39m# telles que sauvegarder le modèle ou ajuster le taux d'apprentissage\u001b[39;00m\n\u001b[0;32m      8\u001b[0m model\u001b[39m.\u001b[39mcompile(\n\u001b[0;32m      9\u001b[0m     optimizer\u001b[39m=\u001b[39mkeras\u001b[39m.\u001b[39moptimizers\u001b[39m.\u001b[39mAdam(\u001b[39m0.005\u001b[39m),\n\u001b[0;32m     10\u001b[0m     loss\u001b[39m=\u001b[39m\u001b[39m\"\u001b[39m\u001b[39mcategorical_crossentropy\u001b[39m\u001b[39m\"\u001b[39m,\n\u001b[0;32m     11\u001b[0m     metrics\u001b[39m=\u001b[39m[\u001b[39m\"\u001b[39m\u001b[39maccuracy\u001b[39m\u001b[39m\"\u001b[39m],\n\u001b[0;32m     12\u001b[0m )\n\u001b[1;32m---> 15\u001b[0m history \u001b[39m=\u001b[39m model\u001b[39m.\u001b[39;49mfit(\n\u001b[0;32m     16\u001b[0m     train_ds,\n\u001b[0;32m     17\u001b[0m     epochs\u001b[39m=\u001b[39;49mepochs,\n\u001b[0;32m     18\u001b[0m     callbacks\u001b[39m=\u001b[39;49mcallbacks,\n\u001b[0;32m     19\u001b[0m     validation_data\u001b[39m=\u001b[39;49mval_ds,\n\u001b[0;32m     20\u001b[0m )\n",
      "File \u001b[1;32mc:\\Users\\nperc\\Documents\\Datathon\\01_iHeath_env2\\lib\\site-packages\\keras\\utils\\traceback_utils.py:70\u001b[0m, in \u001b[0;36mfilter_traceback.<locals>.error_handler\u001b[1;34m(*args, **kwargs)\u001b[0m\n\u001b[0;32m     67\u001b[0m     filtered_tb \u001b[39m=\u001b[39m _process_traceback_frames(e\u001b[39m.\u001b[39m__traceback__)\n\u001b[0;32m     68\u001b[0m     \u001b[39m# To get the full stack trace, call:\u001b[39;00m\n\u001b[0;32m     69\u001b[0m     \u001b[39m# `tf.debugging.disable_traceback_filtering()`\u001b[39;00m\n\u001b[1;32m---> 70\u001b[0m     \u001b[39mraise\u001b[39;00m e\u001b[39m.\u001b[39mwith_traceback(filtered_tb) \u001b[39mfrom\u001b[39;00m \u001b[39mNone\u001b[39;00m\n\u001b[0;32m     71\u001b[0m \u001b[39mfinally\u001b[39;00m:\n\u001b[0;32m     72\u001b[0m     \u001b[39mdel\u001b[39;00m filtered_tb\n",
      "File \u001b[1;32mc:\\Users\\nperc\\Documents\\Datathon\\01_iHeath_env2\\lib\\site-packages\\tensorflow\\python\\eager\\execute.py:52\u001b[0m, in \u001b[0;36mquick_execute\u001b[1;34m(op_name, num_outputs, inputs, attrs, ctx, name)\u001b[0m\n\u001b[0;32m     50\u001b[0m \u001b[39mtry\u001b[39;00m:\n\u001b[0;32m     51\u001b[0m   ctx\u001b[39m.\u001b[39mensure_initialized()\n\u001b[1;32m---> 52\u001b[0m   tensors \u001b[39m=\u001b[39m pywrap_tfe\u001b[39m.\u001b[39mTFE_Py_Execute(ctx\u001b[39m.\u001b[39m_handle, device_name, op_name,\n\u001b[0;32m     53\u001b[0m                                       inputs, attrs, num_outputs)\n\u001b[0;32m     54\u001b[0m \u001b[39mexcept\u001b[39;00m core\u001b[39m.\u001b[39m_NotOkStatusException \u001b[39mas\u001b[39;00m e:\n\u001b[0;32m     55\u001b[0m   \u001b[39mif\u001b[39;00m name \u001b[39mis\u001b[39;00m \u001b[39mnot\u001b[39;00m \u001b[39mNone\u001b[39;00m:\n",
      "\u001b[1;31mInvalidArgumentError\u001b[0m: Graph execution error:\n\n`channels` must be 0, 3 or 4 for BMP, but got 1\n\t [[{{node decode_image/DecodeImage}}]]\n\t [[IteratorGetNext]] [Op:__inference_train_function_50171]"
     ]
    }
   ],
   "source": [
    "# Nombre d'itérations d'entraînement que le modèle va effectuer sur l'ensemble des données\n",
    "\n",
    "\n",
    "# Fonctions qui sont exécutées pendant l'entraînement pour effectuer des opérations\n",
    "# telles que sauvegarder le modèle ou ajuster le taux d'apprentissage\n",
    "\n",
    "\n",
    "model.compile(\n",
    "    optimizer=keras.optimizers.Adam(0.005),\n",
    "    loss=\"categorical_crossentropy\",\n",
    "    metrics=[\"accuracy\"],\n",
    ")\n",
    "\n",
    "\n",
    "history = model.fit(\n",
    "    train_ds,\n",
    "    epochs=epochs,\n",
    "    callbacks=callbacks,\n",
    "    validation_data=val_ds,\n",
    ")"
   ]
  },
  {
   "cell_type": "code",
   "execution_count": 48,
   "id": "4bf6995c",
   "metadata": {},
   "outputs": [
    {
     "data": {
      "image/png": "[encoded data removed]",
      "text/plain": [
       "<Figure size 640x480 with 1 Axes>"
      ]
     },
     "metadata": {},
     "output_type": "display_data"
    }
   ],
   "source": [
    "import matplotlib.pyplot as plt\n",
    "\n",
    "#plot the training and validation accuracy and loss at each epoch\n",
    "loss = history.history['loss']\n",
    "val_loss = history.history['val_loss']\n",
    "epochs = range(1, len(loss) + 1)\n",
    "plt.plot(epochs, loss, 'y', label='T')\n",
    "plt.plot(epochs, val_loss, 'r', label='V')\n",
    "plt.title('Training and validation loss')\n",
    "plt.xlabel('Epochs')\n",
    "plt.ylabel('Loss')\n",
    "plt.legend()\n",
    "plt.show()"
   ]
  }
 ],
 "metadata": {
  "kernelspec": {
   "display_name": "Python 3 (ipykernel)",
   "language": "python",
   "name": "python3"
  },
  "language_info": {
   "codemirror_mode": {
    "name": "ipython",
    "version": 3
   },
   "file_extension": ".py",
   "mimetype": "text/x-python",
   "name": "python",
   "nbconvert_exporter": "python",
   "pygments_lexer": "ipython3",
   "version": "3.10.9"
  }
 },
 "nbformat": 4,
 "nbformat_minor": 5
}
